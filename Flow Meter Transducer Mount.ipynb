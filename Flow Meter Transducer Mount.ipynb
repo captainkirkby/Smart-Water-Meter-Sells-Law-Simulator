{
 "cells": [
  {
   "cell_type": "code",
   "execution_count": 12,
   "metadata": {
    "collapsed": false
   },
   "outputs": [
    {
     "name": "stdout",
     "output_type": "stream",
     "text": [
      "Populating the interactive namespace from numpy and matplotlib\n"
     ]
    }
   ],
   "source": [
    "%pylab inline\n",
    "import matplotlib.patches as patches"
   ]
  },
  {
   "cell_type": "code",
   "execution_count": 13,
   "metadata": {
    "collapsed": true
   },
   "outputs": [],
   "source": [
    "# Speeds Of Sound\n",
    "vMount = 1944.      # m/s (taken from sqrt(E/rho) using numbers from https://www.shapeways.com/rrstatic/material_docs/mds-strongflex.pdf)\n",
    "vPipe = 2395.       # m/s\n",
    "vWater = 1480.      # m/s"
   ]
  },
  {
   "cell_type": "code",
   "execution_count": 14,
   "metadata": {
    "collapsed": false
   },
   "outputs": [
    {
     "name": "stdout",
     "output_type": "stream",
     "text": [
      "60.5928617356\n",
      "32.5701848591\n"
     ]
    }
   ],
   "source": [
    "thetaMount = 45.    # degrees\n",
    "thetaPipe = rad2deg(arcsin((vPipe / vMount) * sin(deg2rad(thetaMount))))\n",
    "thetaWater = rad2deg(arcsin((vWater / vMount) * sin(deg2rad(thetaMount))))\n",
    "print(thetaPipe)\n",
    "print(thetaWater)"
   ]
  },
  {
   "cell_type": "code",
   "execution_count": 15,
   "metadata": {
    "collapsed": false
   },
   "outputs": [],
   "source": [
    "# Distances (thickness of material)\n",
    "dWater = 0.01905    # m\n",
    "dPipe = 0.00287     # m\n",
    "dMount = 0.005781   # m"
   ]
  },
  {
   "cell_type": "code",
   "execution_count": 16,
   "metadata": {
    "collapsed": false
   },
   "outputs": [
    {
     "name": "stdout",
     "output_type": "stream",
     "text": [
      "Water Separation: 0.02434m = 0.95819in\n",
      "Pipe Separation: 0.01018m = 0.40094in\n",
      "Mount Separation: 0.01156m = 0.4552in\n",
      "Total Separation: 0.04608m = 1.81433in\n"
     ]
    }
   ],
   "source": [
    "IN_PER_M = 39.3701\n",
    "\n",
    "# Separation\n",
    "waterSep = 2 * dWater * tan(deg2rad(thetaWater))\n",
    "pipeSep = 2 * dPipe * tan(deg2rad(thetaPipe))\n",
    "mountSep = 2 * dMount * tan(deg2rad(thetaMount))\n",
    "totalSep = waterSep + pipeSep + mountSep\n",
    "\n",
    "print(\"Water Separation: {}m = {}in\".format(round(waterSep, 5), round(waterSep * IN_PER_M, 5)))\n",
    "print(\"Pipe Separation: {}m = {}in\".format(round(pipeSep, 5), round(pipeSep * IN_PER_M, 5)))\n",
    "print(\"Mount Separation: {}m = {}in\".format(round(mountSep, 5), round(mountSep * IN_PER_M, 5)))\n",
    "print(\"Total Separation: {}m = {}in\".format(round(totalSep, 5), round(totalSep * IN_PER_M, 5)))"
   ]
  },
  {
   "cell_type": "code",
   "execution_count": 17,
   "metadata": {
    "collapsed": false
   },
   "outputs": [
    {
     "name": "stdout",
     "output_type": "stream",
     "text": [
      "Block Separation: 0.00855m = 0.33649in\n"
     ]
    }
   ],
   "source": [
    "hBlockThickness = 0.0187684918  # m\n",
    "blockSep = totalSep - 2 * (hBlockThickness)  # m\n",
    "print(\"Block Separation: {}m = {}in\".format(round(blockSep, 5), round(blockSep * IN_PER_M, 5)))"
   ]
  },
  {
   "cell_type": "code",
   "execution_count": 18,
   "metadata": {
    "collapsed": false
   },
   "outputs": [],
   "source": [
    "def rayTrace():\n",
    "    x1 = 0\n",
    "    y1 = 0\n",
    "    \n",
    "    x2 = x1 + dMount * tan(deg2rad(thetaMount))\n",
    "    y2 = y1 - dMount\n",
    "    \n",
    "    mountDistanceTraveled = 2 * sqrt((x2-x1)**2 + (y2-y1)**2)\n",
    "#     print mountDistanceTraveled\n",
    "    \n",
    "    x3 = x2 + dPipe * tan(deg2rad(thetaPipe))\n",
    "    y3 = y2 - dPipe\n",
    "    \n",
    "    pipeDistanceTraveled = 2 * sqrt((x3-x2)**2 + (y3-y2)**2)\n",
    "#     print pipeDistanceTraveled\n",
    "    \n",
    "    x4 = x3 + dWater * tan(deg2rad(thetaWater))\n",
    "    y4 = y3 - dWater\n",
    "\n",
    "    waterDistanceTraveled = 2 * sqrt((x4-x3)**2 + (y4-y3)**2)\n",
    "#     print waterDistanceTraveled\n",
    "    \n",
    "    x5 = x4 + dWater * tan(deg2rad(thetaWater))\n",
    "    y5 = y3\n",
    "    \n",
    "    x6 = x5 + dPipe * tan(deg2rad(thetaPipe))\n",
    "    y6 = y2\n",
    "    \n",
    "    x7 = x6 + dMount * tan(deg2rad(thetaMount))\n",
    "    y7 = y1\n",
    "    \n",
    "    fig = figure(figsize=(12,8))\n",
    "    ax1 = fig.add_subplot(111)\n",
    "    ax1.add_patch(\n",
    "        patches.Rectangle(\n",
    "            (0, y1),         # (x,y)\n",
    "            hBlockThickness,       # width\n",
    "            y2-y1,          # height\n",
    "            color='grey',\n",
    "            ec='black'\n",
    "        )\n",
    "    )\n",
    "    ax1.add_patch(\n",
    "        patches.Rectangle(\n",
    "            (totalSep - hBlockThickness, y1),         # (x,y)\n",
    "            hBlockThickness,       # width\n",
    "            y2-y1,          # height\n",
    "            color='grey',\n",
    "            ec='black'\n",
    "        )\n",
    "    )\n",
    "    ax1.add_patch(\n",
    "        patches.Rectangle(\n",
    "            (hBlockThickness, y1),         # (x,y)\n",
    "            blockSep,       # width\n",
    "            y2-y1,          # height\n",
    "            color='#e09e69',\n",
    "            ec='black'\n",
    "        )\n",
    "    )\n",
    "    ax1.add_patch(\n",
    "        patches.Rectangle(\n",
    "            (0, y2),         # (x,y)\n",
    "            totalSep,       # width\n",
    "            y3-y2,          # height\n",
    "            color='white',\n",
    "            ec='black'\n",
    "        )\n",
    "    )\n",
    "    ax1.add_patch(\n",
    "        patches.Rectangle(\n",
    "            (0, y3),         # (x,y)\n",
    "            totalSep,       # width\n",
    "            y4-y3,          # height\n",
    "            color='blue',\n",
    "            ec='black'\n",
    "        )\n",
    "    )\n",
    "    \n",
    "    # Transmitted\n",
    "    ax1.plot([x1, x2], [y1, y2], color='k', linestyle='-', linewidth=2)\n",
    "    ax1.plot([x2, x3], [y2, y3], color='k', linestyle='-', linewidth=2)\n",
    "    ax1.plot([x3, x4], [y3, y4], color='k', linestyle='-', linewidth=2)\n",
    "    \n",
    "    # Reflected\n",
    "    ax1.plot([x4, x5], [y4, y5], color='k', linestyle='-', linewidth=2)\n",
    "    ax1.plot([x5, x6], [y5, y6], color='k', linestyle='-', linewidth=2)\n",
    "    ax1.plot([x6, x7], [y6, y7], color='k', linestyle='-', linewidth=2)\n",
    "    \n",
    "    ax1.annotate('Plastic Mount', xy=(0, 0), xytext=(hBlockThickness/2,  y1 + (y2 - y1) / 2)) \n",
    "    ax1.annotate('Block Sep\\n= {}\\\"'.format(round(blockSep * IN_PER_M, 5)), xy=(0, 0), xytext=(0.9*totalSep/2,  y1 + (y2 - y1) / 2)) \n",
    "    ax1.annotate('PVC Pipe Wall', xy=(0, 0), xytext=(0.9*totalSep/2, y2 + (y3 - y2) / 2)) \n",
    "    ax1.annotate('Water', xy=(0, 0), xytext=(0.9*totalSep/2, y3 + (y4 - y3) / 2)) \n",
    "    \n",
    "    totalTime = mountDistanceTraveled / vMount + pipeDistanceTraveled / vPipe + waterDistanceTraveled / vWater\n",
    "    print('Total Predicted Transit Time: {}us'.format(totalTime * 1e6))"
   ]
  },
  {
   "cell_type": "code",
   "execution_count": 19,
   "metadata": {
    "collapsed": false
   },
   "outputs": [
    {
     "name": "stdout",
     "output_type": "stream",
     "text": [
      "Total Predicted Transit Time: 43.8394804093us\n"
     ]
    },
    {
     "data": {
      "image/png": "[encoded data removed]",
      "text/plain": [
       "<matplotlib.figure.Figure at 0x10536e5d0>"
      ]
     },
     "metadata": {},
     "output_type": "display_data"
    }
   ],
   "source": [
    "rayTrace()"
   ]
  },
  {
   "cell_type": "code",
   "execution_count": null,
   "metadata": {
    "collapsed": false
   },
   "outputs": [],
   "source": []
  },
  {
   "cell_type": "code",
   "execution_count": null,
   "metadata": {
    "collapsed": true
   },
   "outputs": [],
   "source": []
  }
 ],
 "metadata": {
  "kernelspec": {
   "display_name": "Python 2",
   "language": "python",
   "name": "python2"
  },
  "language_info": {
   "codemirror_mode": {
    "name": "ipython",
    "version": 2
   },
   "file_extension": ".py",
   "mimetype": "text/x-python",
   "name": "python",
   "nbconvert_exporter": "python",
   "pygments_lexer": "ipython2",
   "version": "2.7.11"
  }
 },
 "nbformat": 4,
 "nbformat_minor": 0
}
